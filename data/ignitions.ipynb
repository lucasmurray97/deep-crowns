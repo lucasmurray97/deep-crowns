{
 "cells": [
  {
   "cell_type": "code",
   "execution_count": 24,
   "id": "83475721-1423-4e3e-b342-091a42cf5d41",
   "metadata": {},
   "outputs": [],
   "source": [
    "import pandas as pd\n",
    "import os\n",
    "import json"
   ]
  },
  {
   "cell_type": "code",
   "execution_count": 29,
   "id": "f8c4d9b0-0eb7-4ef5-95fa-634d7c728dd5",
   "metadata": {},
   "outputs": [],
   "source": [
    "dir_list = os.listdir('Messages')"
   ]
  },
  {
   "cell_type": "code",
   "execution_count": 30,
   "id": "a7d848ea-f824-43a7-a95a-a052f41026e7",
   "metadata": {},
   "outputs": [],
   "source": [
    "ignitions = {}\n",
    "for i in dir_list:\n",
    "    fire_n = i.split('File')[1].split('.')[0]\n",
    "    try:\n",
    "        message = pd.read_csv(f'Messages/{i}', header=None)\n",
    "    except:\n",
    "        continue\n",
    "    ignitions[int(fire_n)] = int(message.iloc[0][0])"
   ]
  },
  {
   "cell_type": "code",
   "execution_count": 31,
   "id": "2e0eab86-b246-446d-932a-04083b6a1056",
   "metadata": {},
   "outputs": [],
   "source": [
    "with open(\"ignitions.json\", \"w\") as outfile: \n",
    "    json.dump(ignitions, outfile)"
   ]
  },
  {
   "cell_type": "code",
   "execution_count": null,
   "id": "831fbdc1-116f-436d-ac54-6175c5d22149",
   "metadata": {},
   "outputs": [],
   "source": []
  }
 ],
 "metadata": {
  "kernelspec": {
   "display_name": "Python 3 (ipykernel)",
   "language": "python",
   "name": "python3"
  },
  "language_info": {
   "codemirror_mode": {
    "name": "ipython",
    "version": 3
   },
   "file_extension": ".py",
   "mimetype": "text/x-python",
   "name": "python",
   "nbconvert_exporter": "python",
   "pygments_lexer": "ipython3",
   "version": "3.11.6"
  }
 },
 "nbformat": 4,
 "nbformat_minor": 5
}
